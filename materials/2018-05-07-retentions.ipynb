{
 "cells": [
  {
   "cell_type": "markdown",
   "metadata": {},
   "source": [
    "## Retentions\n",
    "\n",
    "Давайте посчитаем классический retention по недельным когортам."
   ]
  },
  {
   "cell_type": "code",
   "execution_count": 4,
   "metadata": {
    "collapsed": false
   },
   "outputs": [],
   "source": [
    "HOST = 'http://localhost:8123'\n",
    "import requests\n",
    "import pandas as pd\n",
    "import io\n",
    "import datetime\n",
    "import seaborn as sns\n",
    "\n",
    "pd.set_option('display.max_columns', 500)\n",
    "pd.set_option('display.max_colwidth', 150)\n",
    "\n",
    "def get_clickhouse_data(query, host = HOST, connection_timeout = 1500):\n",
    "    query = query \n",
    "    r = requests.post(host, params = {'query': query}, timeout = connection_timeout)\n",
    "    if r.status_code == 200:\n",
    "        return r.text\n",
    "    else:\n",
    "        raise ValueError(r.text)\n",
    "        \n",
    "def get_clickhouse_df(query, host = HOST, connection_timeout = 1500):\n",
    "    data = get_clickhouse_data(query, host, connection_timeout) \n",
    "    df = pd.read_csv(io.StringIO(data), sep = '\\t')\n",
    "    return df"
   ]
  },
  {
   "cell_type": "code",
   "execution_count": 6,
   "metadata": {
    "collapsed": false
   },
   "outputs": [
    {
     "data": {
      "text/html": [
       "<script>requirejs.config({paths: { 'plotly': ['https://cdn.plot.ly/plotly-latest.min']},});if(!window.Plotly) {{require(['plotly'],function(plotly) {window.Plotly=plotly;});}}</script>"
      ],
      "text/vnd.plotly.v1+html": [
       "<script>requirejs.config({paths: { 'plotly': ['https://cdn.plot.ly/plotly-latest.min']},});if(!window.Plotly) {{require(['plotly'],function(plotly) {window.Plotly=plotly;});}}</script>"
      ]
     },
     "metadata": {},
     "output_type": "display_data"
    }
   ],
   "source": [
    "from plotly import __version__\n",
    "from plotly.offline import download_plotlyjs, init_notebook_mode, plot, iplot\n",
    "from plotly import graph_objs as go\n",
    "import requests\n",
    "import pandas as pd\n",
    "\n",
    "init_notebook_mode(connected = True)\n",
    "\n",
    "def plotly_df(df, title = ''):\n",
    "    data = []\n",
    "    \n",
    "    for column in df.columns:\n",
    "        trace = go.Scatter(\n",
    "            x = df.index,\n",
    "            y = df[column],\n",
    "            mode = 'lines',\n",
    "            name = column\n",
    "        )\n",
    "        data.append(trace)\n",
    "    \n",
    "    layout = dict(title = title)\n",
    "    fig = dict(data = data, layout = layout)\n",
    "    \n",
    "    iplot(fig, show_link = False)"
   ]
  },
  {
   "cell_type": "code",
   "execution_count": 8,
   "metadata": {
    "collapsed": true
   },
   "outputs": [],
   "source": [
    "def highlight_vals(val):\n",
    "    if (val is None) or (val == ''):\n",
    "        return ''\n",
    "    p = 0.5\n",
    "    if val > 90:\n",
    "        return 'background-color: rgba(229, 0, 20, %f)' % p\n",
    "    if val > 80:\n",
    "        return 'background-color: rgba(231, 25, 43, %f)' % p\n",
    "    if val > 70:\n",
    "        return 'background-color: rgba(234, 51, 67, %f)' % p\n",
    "    if val > 60:\n",
    "        return 'background-color: rgba(236, 76, 90, %f)' % p\n",
    "    if val > 50:\n",
    "        return 'background-color: rgba(239, 102, 114, %f)' % p\n",
    "    if val > 40:\n",
    "        return 'background-color: rgba(242, 137, 127, %f)' % p\n",
    "    if val > 30:\n",
    "        return 'background-color: rgba(244, 153, 161, %f)' % p\n",
    "    if val > 20:\n",
    "        return 'background-color: rgba(247, 178, 184, %f)' % p\n",
    "    if val > 10:\n",
    "        return 'background-color: rgba(249, 204, 208, %f)' % p\n",
    "    return 'background-color: rgba(252, 229, 231, %f)' % p"
   ]
  },
  {
   "cell_type": "code",
   "execution_count": 18,
   "metadata": {
    "collapsed": true
   },
   "outputs": [],
   "source": [
    "start_date = datetime.datetime(2017, 8, 28)\n",
    "end_date = datetime.datetime(2017, 10, 1)"
   ]
  },
  {
   "cell_type": "code",
   "execution_count": 19,
   "metadata": {
    "collapsed": false
   },
   "outputs": [
    {
     "data": {
      "text/plain": [
       "''"
      ]
     },
     "execution_count": 19,
     "metadata": {},
     "output_type": "execute_result"
    }
   ],
   "source": [
    "q = 'DROP TABLE IF EXISTS retention_users'\n",
    "get_clickhouse_data(q)"
   ]
  },
  {
   "cell_type": "markdown",
   "metadata": {},
   "source": [
    "Для начала выгрузим в отдельную таблицу для каждого пользователя, в какие недели он появлялся на сервисе."
   ]
  },
  {
   "cell_type": "code",
   "execution_count": 20,
   "metadata": {
    "collapsed": false
   },
   "outputs": [
    {
     "data": {
      "text/plain": [
       "''"
      ]
     },
     "execution_count": 20,
     "metadata": {},
     "output_type": "execute_result"
    }
   ],
   "source": [
    "q = '''\n",
    "    CREATE TABLE retention_users ENGINE = Log AS\n",
    "        SELECT DISTINCT \n",
    "            ClientID as client_id, \n",
    "            toMonday(Date) as date\n",
    "        FROM visits_all\n",
    "        WHERE (client_id != 0)\n",
    "'''.format(\n",
    "    start_date = start_date.strftime('%Y-%m-%d'),\n",
    "    end_date = end_date.strftime('%Y-%m-%d')\n",
    ")\n",
    "\n",
    "get_clickhouse_data(q)"
   ]
  },
  {
   "cell_type": "code",
   "execution_count": 21,
   "metadata": {
    "collapsed": false
   },
   "outputs": [
    {
     "data": {
      "text/html": [
       "<div>\n",
       "<style>\n",
       "    .dataframe thead tr:only-child th {\n",
       "        text-align: right;\n",
       "    }\n",
       "\n",
       "    .dataframe thead th {\n",
       "        text-align: left;\n",
       "    }\n",
       "\n",
       "    .dataframe tbody tr th {\n",
       "        vertical-align: top;\n",
       "    }\n",
       "</style>\n",
       "<table border=\"1\" class=\"dataframe\">\n",
       "  <thead>\n",
       "    <tr style=\"text-align: right;\">\n",
       "      <th></th>\n",
       "      <th>visits</th>\n",
       "      <th>users</th>\n",
       "    </tr>\n",
       "  </thead>\n",
       "  <tbody>\n",
       "    <tr>\n",
       "      <th>0</th>\n",
       "      <td>873866</td>\n",
       "      <td>620334</td>\n",
       "    </tr>\n",
       "  </tbody>\n",
       "</table>\n",
       "</div>"
      ],
      "text/plain": [
       "   visits   users\n",
       "0  873866  620334"
      ]
     },
     "execution_count": 21,
     "metadata": {},
     "output_type": "execute_result"
    }
   ],
   "source": [
    "q = '''\n",
    "    SELECT \n",
    "        count() as visits, \n",
    "        uniq(client_id) as users\n",
    "    FROM retention_users \n",
    "    FORMAT TabSeparatedWithNames'''\n",
    "get_clickhouse_df(q)"
   ]
  },
  {
   "cell_type": "code",
   "execution_count": 22,
   "metadata": {
    "collapsed": false
   },
   "outputs": [
    {
     "data": {
      "text/html": [
       "<div>\n",
       "<style>\n",
       "    .dataframe thead tr:only-child th {\n",
       "        text-align: right;\n",
       "    }\n",
       "\n",
       "    .dataframe thead th {\n",
       "        text-align: left;\n",
       "    }\n",
       "\n",
       "    .dataframe tbody tr th {\n",
       "        vertical-align: top;\n",
       "    }\n",
       "</style>\n",
       "<table border=\"1\" class=\"dataframe\">\n",
       "  <thead>\n",
       "    <tr style=\"text-align: right;\">\n",
       "      <th></th>\n",
       "      <th>client_id</th>\n",
       "      <th>min_date</th>\n",
       "      <th>max_date</th>\n",
       "      <th>date</th>\n",
       "    </tr>\n",
       "  </thead>\n",
       "  <tbody>\n",
       "    <tr>\n",
       "      <th>0</th>\n",
       "      <td>1505921240378544247</td>\n",
       "      <td>2017-09-18</td>\n",
       "      <td>2017-09-18</td>\n",
       "      <td>2017-09-18</td>\n",
       "    </tr>\n",
       "    <tr>\n",
       "      <th>1</th>\n",
       "      <td>1503637663587884741</td>\n",
       "      <td>2017-09-25</td>\n",
       "      <td>2017-09-25</td>\n",
       "      <td>2017-09-25</td>\n",
       "    </tr>\n",
       "    <tr>\n",
       "      <th>2</th>\n",
       "      <td>1498210196563306890</td>\n",
       "      <td>2017-09-18</td>\n",
       "      <td>2017-09-18</td>\n",
       "      <td>2017-09-18</td>\n",
       "    </tr>\n",
       "    <tr>\n",
       "      <th>3</th>\n",
       "      <td>1501591697286644109</td>\n",
       "      <td>2017-09-04</td>\n",
       "      <td>2017-09-11</td>\n",
       "      <td>2017-09-04</td>\n",
       "    </tr>\n",
       "    <tr>\n",
       "      <th>4</th>\n",
       "      <td>1501591697286644109</td>\n",
       "      <td>2017-09-04</td>\n",
       "      <td>2017-09-11</td>\n",
       "      <td>2017-09-11</td>\n",
       "    </tr>\n",
       "    <tr>\n",
       "      <th>5</th>\n",
       "      <td>1501233998239305767</td>\n",
       "      <td>2017-09-25</td>\n",
       "      <td>2017-09-25</td>\n",
       "      <td>2017-09-25</td>\n",
       "    </tr>\n",
       "    <tr>\n",
       "      <th>6</th>\n",
       "      <td>1472573605844899677</td>\n",
       "      <td>2017-09-04</td>\n",
       "      <td>2017-09-04</td>\n",
       "      <td>2017-09-04</td>\n",
       "    </tr>\n",
       "    <tr>\n",
       "      <th>7</th>\n",
       "      <td>1492177010574599868</td>\n",
       "      <td>2017-09-18</td>\n",
       "      <td>2017-09-18</td>\n",
       "      <td>2017-09-18</td>\n",
       "    </tr>\n",
       "    <tr>\n",
       "      <th>8</th>\n",
       "      <td>1505214617414301078</td>\n",
       "      <td>2017-09-18</td>\n",
       "      <td>2017-09-18</td>\n",
       "      <td>2017-09-18</td>\n",
       "    </tr>\n",
       "    <tr>\n",
       "      <th>9</th>\n",
       "      <td>1470876305274807957</td>\n",
       "      <td>2017-09-11</td>\n",
       "      <td>2017-09-11</td>\n",
       "      <td>2017-09-11</td>\n",
       "    </tr>\n",
       "  </tbody>\n",
       "</table>\n",
       "</div>"
      ],
      "text/plain": [
       "             client_id    min_date    max_date        date\n",
       "0  1505921240378544247  2017-09-18  2017-09-18  2017-09-18\n",
       "1  1503637663587884741  2017-09-25  2017-09-25  2017-09-25\n",
       "2  1498210196563306890  2017-09-18  2017-09-18  2017-09-18\n",
       "3  1501591697286644109  2017-09-04  2017-09-11  2017-09-04\n",
       "4  1501591697286644109  2017-09-04  2017-09-11  2017-09-11\n",
       "5  1501233998239305767  2017-09-25  2017-09-25  2017-09-25\n",
       "6  1472573605844899677  2017-09-04  2017-09-04  2017-09-04\n",
       "7  1492177010574599868  2017-09-18  2017-09-18  2017-09-18\n",
       "8  1505214617414301078  2017-09-18  2017-09-18  2017-09-18\n",
       "9  1470876305274807957  2017-09-11  2017-09-11  2017-09-11"
      ]
     },
     "execution_count": 22,
     "metadata": {},
     "output_type": "execute_result"
    }
   ],
   "source": [
    "q = '''\n",
    "    SELECT \n",
    "        client_id,\n",
    "        min_date, \n",
    "        max_date,\n",
    "        date\n",
    "    FROM\n",
    "        (\n",
    "            SELECT\n",
    "                client_id,\n",
    "                min(date) as min_date,\n",
    "                max(date) as max_date\n",
    "            FROM retention_users\n",
    "            GROUP BY client_id\n",
    "            HAVING (min_date <= '{end_date}') AND (min_date >= '{start_date}')\n",
    "        )\n",
    "        ALL INNER JOIN\n",
    "        (\n",
    "            SELECT \n",
    "                client_id,\n",
    "                date\n",
    "            FROM retention_users\n",
    "        ) \n",
    "        USING client_id\n",
    "    LIMIT 10\n",
    "    FORMAT TabSeparatedWithNames\n",
    "'''.format(\n",
    "    start_date = start_date.strftime('%Y-%m-%d'),\n",
    "    end_date = end_date.strftime('%Y-%m-%d')\n",
    ")\n",
    "\n",
    "get_clickhouse_df(q)"
   ]
  },
  {
   "cell_type": "markdown",
   "metadata": {},
   "source": [
    "### Классический retention"
   ]
  },
  {
   "cell_type": "code",
   "execution_count": 23,
   "metadata": {
    "collapsed": true
   },
   "outputs": [],
   "source": [
    "\n",
    "\n",
    "q = '''\n",
    "SELECT \n",
    "    uniq(client_id) as clients,\n",
    "    min_date, \n",
    "    (date - min_date)/7 as week_num\n",
    "FROM\n",
    "    (\n",
    "        SELECT\n",
    "            client_id,\n",
    "            min(date) as min_date,\n",
    "            max(date) as max_date\n",
    "        FROM retention_users\n",
    "        GROUP BY client_id\n",
    "        HAVING (min_date <= '{end_date}') AND (min_date >= '{start_date}')\n",
    "    )\n",
    "    ALL INNER JOIN\n",
    "    (\n",
    "        SELECT \n",
    "            client_id,\n",
    "            date\n",
    "        FROM retention_users\n",
    "    ) \n",
    "    USING client_id\n",
    "GROUP BY\n",
    "    week_num,\n",
    "    min_date\n",
    "FORMAT TabSeparatedWithNames\n",
    "'''.format(\n",
    "    start_date = start_date.strftime('%Y-%m-%d'),\n",
    "    end_date = end_date.strftime('%Y-%m-%d')\n",
    ")\n",
    "\n",
    "raw_ret_df = get_clickhouse_df(q)"
   ]
  },
  {
   "cell_type": "code",
   "execution_count": 24,
   "metadata": {
    "collapsed": false
   },
   "outputs": [
    {
     "data": {
      "text/html": [
       "<div>\n",
       "<style>\n",
       "    .dataframe thead tr:only-child th {\n",
       "        text-align: right;\n",
       "    }\n",
       "\n",
       "    .dataframe thead th {\n",
       "        text-align: left;\n",
       "    }\n",
       "\n",
       "    .dataframe tbody tr th {\n",
       "        vertical-align: top;\n",
       "    }\n",
       "</style>\n",
       "<table border=\"1\" class=\"dataframe\">\n",
       "  <thead>\n",
       "    <tr style=\"text-align: right;\">\n",
       "      <th></th>\n",
       "      <th>clients</th>\n",
       "      <th>min_date</th>\n",
       "      <th>week_num</th>\n",
       "    </tr>\n",
       "  </thead>\n",
       "  <tbody>\n",
       "    <tr>\n",
       "      <th>0</th>\n",
       "      <td>8953</td>\n",
       "      <td>2017-09-11</td>\n",
       "      <td>0</td>\n",
       "    </tr>\n",
       "    <tr>\n",
       "      <th>1</th>\n",
       "      <td>205</td>\n",
       "      <td>2017-08-28</td>\n",
       "      <td>4</td>\n",
       "    </tr>\n",
       "    <tr>\n",
       "      <th>2</th>\n",
       "      <td>281</td>\n",
       "      <td>2017-08-28</td>\n",
       "      <td>3</td>\n",
       "    </tr>\n",
       "    <tr>\n",
       "      <th>3</th>\n",
       "      <td>338</td>\n",
       "      <td>2017-08-28</td>\n",
       "      <td>2</td>\n",
       "    </tr>\n",
       "    <tr>\n",
       "      <th>4</th>\n",
       "      <td>587</td>\n",
       "      <td>2017-08-28</td>\n",
       "      <td>1</td>\n",
       "    </tr>\n",
       "  </tbody>\n",
       "</table>\n",
       "</div>"
      ],
      "text/plain": [
       "   clients    min_date  week_num\n",
       "0     8953  2017-09-11         0\n",
       "1      205  2017-08-28         4\n",
       "2      281  2017-08-28         3\n",
       "3      338  2017-08-28         2\n",
       "4      587  2017-08-28         1"
      ]
     },
     "execution_count": 24,
     "metadata": {},
     "output_type": "execute_result"
    }
   ],
   "source": [
    "raw_ret_df.head()"
   ]
  },
  {
   "cell_type": "code",
   "execution_count": 26,
   "metadata": {
    "collapsed": true
   },
   "outputs": [],
   "source": [
    "ret_df = raw_ret_df.pivot_table(\n",
    "    index = 'min_date', \n",
    "    values = 'clients', \n",
    "    columns = 'week_num').fillna(0).T"
   ]
  },
  {
   "cell_type": "code",
   "execution_count": 27,
   "metadata": {
    "collapsed": true
   },
   "outputs": [],
   "source": [
    "ret_df_norm = ret_df.apply(lambda x: 100*x/ret_df.loc[0], axis = 1).applymap(lambda x: x if x!=0 else None)"
   ]
  },
  {
   "cell_type": "code",
   "execution_count": 28,
   "metadata": {
    "collapsed": false
   },
   "outputs": [
    {
     "data": {
      "application/vnd.plotly.v1+json": {
       "data": [
        {
         "mode": "lines",
         "name": "2017-08-28",
         "type": "scatter",
         "x": [
          0,
          1,
          2,
          3,
          4
         ],
         "y": [
          100,
          7.0535928863254025,
          4.061523672194184,
          3.376592165344869,
          2.463350156212449
         ]
        },
        {
         "mode": "lines",
         "name": "2017-09-04",
         "type": "scatter",
         "x": [
          0,
          1,
          2,
          3,
          4
         ],
         "y": [
          100,
          7.290651067056657,
          4.008233127505146,
          2.968259126855162,
          null
         ]
        },
        {
         "mode": "lines",
         "name": "2017-09-11",
         "type": "scatter",
         "x": [
          0,
          1,
          2,
          3,
          4
         ],
         "y": [
          100,
          7.818608287724785,
          3.953981905506534,
          null,
          null
         ]
        },
        {
         "mode": "lines",
         "name": "2017-09-18",
         "type": "scatter",
         "x": [
          0,
          1,
          2,
          3,
          4
         ],
         "y": [
          100,
          6.421771151428058,
          null,
          null,
          null
         ]
        },
        {
         "mode": "lines",
         "name": "2017-09-25",
         "type": "scatter",
         "x": [
          0,
          1,
          2,
          3,
          4
         ],
         "y": [
          100,
          null,
          null,
          null,
          null
         ]
        }
       ],
       "layout": {
        "title": ""
       }
      },
      "text/html": [
       "<div id=\"209204ef-d121-4ff2-b0b8-3f0329acd026\" style=\"height: 525px; width: 100%;\" class=\"plotly-graph-div\"></div><script type=\"text/javascript\">require([\"plotly\"], function(Plotly) { window.PLOTLYENV=window.PLOTLYENV || {};window.PLOTLYENV.BASE_URL=\"https://plot.ly\";Plotly.newPlot(\"209204ef-d121-4ff2-b0b8-3f0329acd026\", [{\"y\": [100.0, 7.0535928863254025, 4.061523672194184, 3.376592165344869, 2.463350156212449], \"type\": \"scatter\", \"mode\": \"lines\", \"name\": \"2017-08-28\", \"x\": [0, 1, 2, 3, 4]}, {\"y\": [100.0, 7.290651067056657, 4.008233127505146, 2.968259126855162, null], \"type\": \"scatter\", \"mode\": \"lines\", \"name\": \"2017-09-04\", \"x\": [0, 1, 2, 3, 4]}, {\"y\": [100.0, 7.818608287724785, 3.953981905506534, null, null], \"type\": \"scatter\", \"mode\": \"lines\", \"name\": \"2017-09-11\", \"x\": [0, 1, 2, 3, 4]}, {\"y\": [100.0, 6.421771151428058, null, null, null], \"type\": \"scatter\", \"mode\": \"lines\", \"name\": \"2017-09-18\", \"x\": [0, 1, 2, 3, 4]}, {\"y\": [100.0, null, null, null, null], \"type\": \"scatter\", \"mode\": \"lines\", \"name\": \"2017-09-25\", \"x\": [0, 1, 2, 3, 4]}], {\"title\": \"\"}, {\"showLink\": false, \"linkText\": \"Export to plot.ly\"})});</script>"
      ],
      "text/vnd.plotly.v1+html": [
       "<div id=\"209204ef-d121-4ff2-b0b8-3f0329acd026\" style=\"height: 525px; width: 100%;\" class=\"plotly-graph-div\"></div><script type=\"text/javascript\">require([\"plotly\"], function(Plotly) { window.PLOTLYENV=window.PLOTLYENV || {};window.PLOTLYENV.BASE_URL=\"https://plot.ly\";Plotly.newPlot(\"209204ef-d121-4ff2-b0b8-3f0329acd026\", [{\"y\": [100.0, 7.0535928863254025, 4.061523672194184, 3.376592165344869, 2.463350156212449], \"type\": \"scatter\", \"mode\": \"lines\", \"name\": \"2017-08-28\", \"x\": [0, 1, 2, 3, 4]}, {\"y\": [100.0, 7.290651067056657, 4.008233127505146, 2.968259126855162, null], \"type\": \"scatter\", \"mode\": \"lines\", \"name\": \"2017-09-04\", \"x\": [0, 1, 2, 3, 4]}, {\"y\": [100.0, 7.818608287724785, 3.953981905506534, null, null], \"type\": \"scatter\", \"mode\": \"lines\", \"name\": \"2017-09-11\", \"x\": [0, 1, 2, 3, 4]}, {\"y\": [100.0, 6.421771151428058, null, null, null], \"type\": \"scatter\", \"mode\": \"lines\", \"name\": \"2017-09-18\", \"x\": [0, 1, 2, 3, 4]}, {\"y\": [100.0, null, null, null, null], \"type\": \"scatter\", \"mode\": \"lines\", \"name\": \"2017-09-25\", \"x\": [0, 1, 2, 3, 4]}], {\"title\": \"\"}, {\"showLink\": false, \"linkText\": \"Export to plot.ly\"})});</script>"
      ]
     },
     "metadata": {},
     "output_type": "display_data"
    }
   ],
   "source": [
    "plotly_df(ret_df_norm)"
   ]
  },
  {
   "cell_type": "code",
   "execution_count": 29,
   "metadata": {
    "collapsed": false
   },
   "outputs": [
    {
     "data": {
      "text/html": [
       "<style  type=\"text/css\" >\n",
       "    #T_cd72cbc8_c2d9_11e7_bc19_3c15c2be2ea6row0_col0 {\n",
       "            background-color:  rgba(229, 0, 20, 0.500000);\n",
       "        }    #T_cd72cbc8_c2d9_11e7_bc19_3c15c2be2ea6row0_col1 {\n",
       "            background-color:  rgba(252, 229, 231, 0.500000);\n",
       "        }    #T_cd72cbc8_c2d9_11e7_bc19_3c15c2be2ea6row0_col2 {\n",
       "            background-color:  rgba(252, 229, 231, 0.500000);\n",
       "        }    #T_cd72cbc8_c2d9_11e7_bc19_3c15c2be2ea6row0_col3 {\n",
       "            background-color:  rgba(252, 229, 231, 0.500000);\n",
       "        }    #T_cd72cbc8_c2d9_11e7_bc19_3c15c2be2ea6row0_col4 {\n",
       "            background-color:  rgba(252, 229, 231, 0.500000);\n",
       "        }    #T_cd72cbc8_c2d9_11e7_bc19_3c15c2be2ea6row1_col0 {\n",
       "            background-color:  rgba(229, 0, 20, 0.500000);\n",
       "        }    #T_cd72cbc8_c2d9_11e7_bc19_3c15c2be2ea6row1_col1 {\n",
       "            background-color:  rgba(252, 229, 231, 0.500000);\n",
       "        }    #T_cd72cbc8_c2d9_11e7_bc19_3c15c2be2ea6row1_col2 {\n",
       "            background-color:  rgba(252, 229, 231, 0.500000);\n",
       "        }    #T_cd72cbc8_c2d9_11e7_bc19_3c15c2be2ea6row1_col3 {\n",
       "            background-color:  rgba(252, 229, 231, 0.500000);\n",
       "        }    #T_cd72cbc8_c2d9_11e7_bc19_3c15c2be2ea6row2_col0 {\n",
       "            background-color:  rgba(229, 0, 20, 0.500000);\n",
       "        }    #T_cd72cbc8_c2d9_11e7_bc19_3c15c2be2ea6row2_col1 {\n",
       "            background-color:  rgba(252, 229, 231, 0.500000);\n",
       "        }    #T_cd72cbc8_c2d9_11e7_bc19_3c15c2be2ea6row2_col2 {\n",
       "            background-color:  rgba(252, 229, 231, 0.500000);\n",
       "        }    #T_cd72cbc8_c2d9_11e7_bc19_3c15c2be2ea6row3_col0 {\n",
       "            background-color:  rgba(229, 0, 20, 0.500000);\n",
       "        }    #T_cd72cbc8_c2d9_11e7_bc19_3c15c2be2ea6row3_col1 {\n",
       "            background-color:  rgba(252, 229, 231, 0.500000);\n",
       "        }    #T_cd72cbc8_c2d9_11e7_bc19_3c15c2be2ea6row4_col0 {\n",
       "            background-color:  rgba(229, 0, 20, 0.500000);\n",
       "        }</style>  \n",
       "<table id=\"T_cd72cbc8_c2d9_11e7_bc19_3c15c2be2ea6\" > \n",
       "<thead>    <tr> \n",
       "        <th class=\"index_name level0\" >week_num</th> \n",
       "        <th class=\"col_heading level0 col0\" >0</th> \n",
       "        <th class=\"col_heading level0 col1\" >1</th> \n",
       "        <th class=\"col_heading level0 col2\" >2</th> \n",
       "        <th class=\"col_heading level0 col3\" >3</th> \n",
       "        <th class=\"col_heading level0 col4\" >4</th> \n",
       "    </tr>    <tr> \n",
       "        <th class=\"index_name level0\" >min_date</th> \n",
       "        <th class=\"blank\" ></th> \n",
       "        <th class=\"blank\" ></th> \n",
       "        <th class=\"blank\" ></th> \n",
       "        <th class=\"blank\" ></th> \n",
       "        <th class=\"blank\" ></th> \n",
       "    </tr></thead> \n",
       "<tbody>    <tr> \n",
       "        <th id=\"T_cd72cbc8_c2d9_11e7_bc19_3c15c2be2ea6\" class=\"row_heading level0 row0\" >2017-08-28</th> \n",
       "        <td id=\"T_cd72cbc8_c2d9_11e7_bc19_3c15c2be2ea6row0_col0\" class=\"data row0 col0\" >100</td> \n",
       "        <td id=\"T_cd72cbc8_c2d9_11e7_bc19_3c15c2be2ea6row0_col1\" class=\"data row0 col1\" >7.05359</td> \n",
       "        <td id=\"T_cd72cbc8_c2d9_11e7_bc19_3c15c2be2ea6row0_col2\" class=\"data row0 col2\" >4.06152</td> \n",
       "        <td id=\"T_cd72cbc8_c2d9_11e7_bc19_3c15c2be2ea6row0_col3\" class=\"data row0 col3\" >3.37659</td> \n",
       "        <td id=\"T_cd72cbc8_c2d9_11e7_bc19_3c15c2be2ea6row0_col4\" class=\"data row0 col4\" >2.46335</td> \n",
       "    </tr>    <tr> \n",
       "        <th id=\"T_cd72cbc8_c2d9_11e7_bc19_3c15c2be2ea6\" class=\"row_heading level0 row1\" >2017-09-04</th> \n",
       "        <td id=\"T_cd72cbc8_c2d9_11e7_bc19_3c15c2be2ea6row1_col0\" class=\"data row1 col0\" >100</td> \n",
       "        <td id=\"T_cd72cbc8_c2d9_11e7_bc19_3c15c2be2ea6row1_col1\" class=\"data row1 col1\" >7.29065</td> \n",
       "        <td id=\"T_cd72cbc8_c2d9_11e7_bc19_3c15c2be2ea6row1_col2\" class=\"data row1 col2\" >4.00823</td> \n",
       "        <td id=\"T_cd72cbc8_c2d9_11e7_bc19_3c15c2be2ea6row1_col3\" class=\"data row1 col3\" >2.96826</td> \n",
       "        <td id=\"T_cd72cbc8_c2d9_11e7_bc19_3c15c2be2ea6row1_col4\" class=\"data row1 col4\" ></td> \n",
       "    </tr>    <tr> \n",
       "        <th id=\"T_cd72cbc8_c2d9_11e7_bc19_3c15c2be2ea6\" class=\"row_heading level0 row2\" >2017-09-11</th> \n",
       "        <td id=\"T_cd72cbc8_c2d9_11e7_bc19_3c15c2be2ea6row2_col0\" class=\"data row2 col0\" >100</td> \n",
       "        <td id=\"T_cd72cbc8_c2d9_11e7_bc19_3c15c2be2ea6row2_col1\" class=\"data row2 col1\" >7.81861</td> \n",
       "        <td id=\"T_cd72cbc8_c2d9_11e7_bc19_3c15c2be2ea6row2_col2\" class=\"data row2 col2\" >3.95398</td> \n",
       "        <td id=\"T_cd72cbc8_c2d9_11e7_bc19_3c15c2be2ea6row2_col3\" class=\"data row2 col3\" ></td> \n",
       "        <td id=\"T_cd72cbc8_c2d9_11e7_bc19_3c15c2be2ea6row2_col4\" class=\"data row2 col4\" ></td> \n",
       "    </tr>    <tr> \n",
       "        <th id=\"T_cd72cbc8_c2d9_11e7_bc19_3c15c2be2ea6\" class=\"row_heading level0 row3\" >2017-09-18</th> \n",
       "        <td id=\"T_cd72cbc8_c2d9_11e7_bc19_3c15c2be2ea6row3_col0\" class=\"data row3 col0\" >100</td> \n",
       "        <td id=\"T_cd72cbc8_c2d9_11e7_bc19_3c15c2be2ea6row3_col1\" class=\"data row3 col1\" >6.42177</td> \n",
       "        <td id=\"T_cd72cbc8_c2d9_11e7_bc19_3c15c2be2ea6row3_col2\" class=\"data row3 col2\" ></td> \n",
       "        <td id=\"T_cd72cbc8_c2d9_11e7_bc19_3c15c2be2ea6row3_col3\" class=\"data row3 col3\" ></td> \n",
       "        <td id=\"T_cd72cbc8_c2d9_11e7_bc19_3c15c2be2ea6row3_col4\" class=\"data row3 col4\" ></td> \n",
       "    </tr>    <tr> \n",
       "        <th id=\"T_cd72cbc8_c2d9_11e7_bc19_3c15c2be2ea6\" class=\"row_heading level0 row4\" >2017-09-25</th> \n",
       "        <td id=\"T_cd72cbc8_c2d9_11e7_bc19_3c15c2be2ea6row4_col0\" class=\"data row4 col0\" >100</td> \n",
       "        <td id=\"T_cd72cbc8_c2d9_11e7_bc19_3c15c2be2ea6row4_col1\" class=\"data row4 col1\" ></td> \n",
       "        <td id=\"T_cd72cbc8_c2d9_11e7_bc19_3c15c2be2ea6row4_col2\" class=\"data row4 col2\" ></td> \n",
       "        <td id=\"T_cd72cbc8_c2d9_11e7_bc19_3c15c2be2ea6row4_col3\" class=\"data row4 col3\" ></td> \n",
       "        <td id=\"T_cd72cbc8_c2d9_11e7_bc19_3c15c2be2ea6row4_col4\" class=\"data row4 col4\" ></td> \n",
       "    </tr></tbody> \n",
       "</table> "
      ],
      "text/plain": [
       "<pandas.io.formats.style.Styler at 0x10c52acf8>"
      ]
     },
     "execution_count": 29,
     "metadata": {},
     "output_type": "execute_result"
    }
   ],
   "source": [
    "ret_df_norm.T.fillna('').style.applymap(highlight_vals)"
   ]
  },
  {
   "cell_type": "markdown",
   "metadata": {},
   "source": [
    "### Rolling retention"
   ]
  },
  {
   "cell_type": "code",
   "execution_count": 30,
   "metadata": {
    "collapsed": true
   },
   "outputs": [],
   "source": [
    "q = '''\n",
    "SELECT\n",
    "    uniq(client_id) as clients,\n",
    "    min_date,\n",
    "    week_num\n",
    "FROM\n",
    "    (SELECT \n",
    "        client_id,\n",
    "        min_date, \n",
    "        arrayJoin(range(toUInt64((max_date - min_date)/7) + 1)) as week_num\n",
    "    FROM\n",
    "        (\n",
    "            SELECT\n",
    "                client_id,\n",
    "                min(date) as min_date,\n",
    "                max(date) as max_date\n",
    "            FROM retention_users\n",
    "            GROUP BY client_id\n",
    "            HAVING (min_date <= '{end_date}') AND (min_date >= '{start_date}')\n",
    "        ))\n",
    "GROUP BY\n",
    "    min_date,\n",
    "    week_num\n",
    "FORMAT TabSeparatedWithNames\n",
    "'''.format(\n",
    "    start_date = start_date.strftime('%Y-%m-%d'),\n",
    "    end_date = end_date.strftime('%Y-%m-%d')\n",
    ")\n",
    "\n",
    "raw_roll_ret_df = get_clickhouse_df(q)"
   ]
  },
  {
   "cell_type": "code",
   "execution_count": 31,
   "metadata": {
    "collapsed": true
   },
   "outputs": [],
   "source": [
    "roll_ret_df = raw_roll_ret_df.pivot_table(index = 'min_date', \n",
    "                                          values = 'clients', \n",
    "                                          columns = 'week_num').fillna(0).T"
   ]
  },
  {
   "cell_type": "code",
   "execution_count": 32,
   "metadata": {
    "collapsed": true
   },
   "outputs": [],
   "source": [
    "roll_ret_df_norm = roll_ret_df\\\n",
    "    .apply(lambda x: 100*x/roll_ret_df.loc[0], axis = 1)\\\n",
    "    .applymap(lambda x: x if x!=0 else None)"
   ]
  },
  {
   "cell_type": "code",
   "execution_count": 33,
   "metadata": {
    "collapsed": false
   },
   "outputs": [
    {
     "data": {
      "application/vnd.plotly.v1+json": {
       "data": [
        {
         "mode": "lines",
         "name": "2017-08-28",
         "type": "scatter",
         "x": [
          0,
          1,
          2,
          3,
          4
         ],
         "y": [
          100,
          12.797404470079307,
          7.954818553232396,
          5.191059841384282,
          2.463350156212449
         ]
        },
        {
         "mode": "lines",
         "name": "2017-09-04",
         "type": "scatter",
         "x": [
          0,
          1,
          2,
          3,
          4
         ],
         "y": [
          100,
          11.212219694507636,
          6.023182753764489,
          2.968259126855162,
          null
         ]
        },
        {
         "mode": "lines",
         "name": "2017-09-11",
         "type": "scatter",
         "x": [
          0,
          1,
          2,
          3,
          4
         ],
         "y": [
          100,
          10.253546297330503,
          3.953981905506534,
          null,
          null
         ]
        },
        {
         "mode": "lines",
         "name": "2017-09-18",
         "type": "scatter",
         "x": [
          0,
          1,
          2,
          3,
          4
         ],
         "y": [
          100,
          6.421771151428058,
          null,
          null,
          null
         ]
        },
        {
         "mode": "lines",
         "name": "2017-09-25",
         "type": "scatter",
         "x": [
          0,
          1,
          2,
          3,
          4
         ],
         "y": [
          100,
          null,
          null,
          null,
          null
         ]
        }
       ],
       "layout": {
        "title": ""
       }
      },
      "text/html": [
       "<div id=\"0a878e6e-f49f-4c1e-a146-6482538f6800\" style=\"height: 525px; width: 100%;\" class=\"plotly-graph-div\"></div><script type=\"text/javascript\">require([\"plotly\"], function(Plotly) { window.PLOTLYENV=window.PLOTLYENV || {};window.PLOTLYENV.BASE_URL=\"https://plot.ly\";Plotly.newPlot(\"0a878e6e-f49f-4c1e-a146-6482538f6800\", [{\"y\": [100.0, 12.797404470079307, 7.954818553232396, 5.191059841384282, 2.463350156212449], \"type\": \"scatter\", \"mode\": \"lines\", \"name\": \"2017-08-28\", \"x\": [0, 1, 2, 3, 4]}, {\"y\": [100.0, 11.212219694507636, 6.023182753764489, 2.968259126855162, null], \"type\": \"scatter\", \"mode\": \"lines\", \"name\": \"2017-09-04\", \"x\": [0, 1, 2, 3, 4]}, {\"y\": [100.0, 10.253546297330503, 3.953981905506534, null, null], \"type\": \"scatter\", \"mode\": \"lines\", \"name\": \"2017-09-11\", \"x\": [0, 1, 2, 3, 4]}, {\"y\": [100.0, 6.421771151428058, null, null, null], \"type\": \"scatter\", \"mode\": \"lines\", \"name\": \"2017-09-18\", \"x\": [0, 1, 2, 3, 4]}, {\"y\": [100.0, null, null, null, null], \"type\": \"scatter\", \"mode\": \"lines\", \"name\": \"2017-09-25\", \"x\": [0, 1, 2, 3, 4]}], {\"title\": \"\"}, {\"showLink\": false, \"linkText\": \"Export to plot.ly\"})});</script>"
      ],
      "text/vnd.plotly.v1+html": [
       "<div id=\"0a878e6e-f49f-4c1e-a146-6482538f6800\" style=\"height: 525px; width: 100%;\" class=\"plotly-graph-div\"></div><script type=\"text/javascript\">require([\"plotly\"], function(Plotly) { window.PLOTLYENV=window.PLOTLYENV || {};window.PLOTLYENV.BASE_URL=\"https://plot.ly\";Plotly.newPlot(\"0a878e6e-f49f-4c1e-a146-6482538f6800\", [{\"y\": [100.0, 12.797404470079307, 7.954818553232396, 5.191059841384282, 2.463350156212449], \"type\": \"scatter\", \"mode\": \"lines\", \"name\": \"2017-08-28\", \"x\": [0, 1, 2, 3, 4]}, {\"y\": [100.0, 11.212219694507636, 6.023182753764489, 2.968259126855162, null], \"type\": \"scatter\", \"mode\": \"lines\", \"name\": \"2017-09-04\", \"x\": [0, 1, 2, 3, 4]}, {\"y\": [100.0, 10.253546297330503, 3.953981905506534, null, null], \"type\": \"scatter\", \"mode\": \"lines\", \"name\": \"2017-09-11\", \"x\": [0, 1, 2, 3, 4]}, {\"y\": [100.0, 6.421771151428058, null, null, null], \"type\": \"scatter\", \"mode\": \"lines\", \"name\": \"2017-09-18\", \"x\": [0, 1, 2, 3, 4]}, {\"y\": [100.0, null, null, null, null], \"type\": \"scatter\", \"mode\": \"lines\", \"name\": \"2017-09-25\", \"x\": [0, 1, 2, 3, 4]}], {\"title\": \"\"}, {\"showLink\": false, \"linkText\": \"Export to plot.ly\"})});</script>"
      ]
     },
     "metadata": {},
     "output_type": "display_data"
    }
   ],
   "source": [
    "plotly_df(roll_ret_df_norm)"
   ]
  },
  {
   "cell_type": "code",
   "execution_count": 34,
   "metadata": {
    "collapsed": false
   },
   "outputs": [
    {
     "data": {
      "text/html": [
       "<style  type=\"text/css\" >\n",
       "    #T_37e6f74a_c2da_11e7_b5f0_3c15c2be2ea6row0_col0 {\n",
       "            background-color:  rgba(229, 0, 20, 0.500000);\n",
       "        }    #T_37e6f74a_c2da_11e7_b5f0_3c15c2be2ea6row0_col1 {\n",
       "            background-color:  rgba(249, 204, 208, 0.500000);\n",
       "        }    #T_37e6f74a_c2da_11e7_b5f0_3c15c2be2ea6row0_col2 {\n",
       "            background-color:  rgba(252, 229, 231, 0.500000);\n",
       "        }    #T_37e6f74a_c2da_11e7_b5f0_3c15c2be2ea6row0_col3 {\n",
       "            background-color:  rgba(252, 229, 231, 0.500000);\n",
       "        }    #T_37e6f74a_c2da_11e7_b5f0_3c15c2be2ea6row0_col4 {\n",
       "            background-color:  rgba(252, 229, 231, 0.500000);\n",
       "        }    #T_37e6f74a_c2da_11e7_b5f0_3c15c2be2ea6row1_col0 {\n",
       "            background-color:  rgba(229, 0, 20, 0.500000);\n",
       "        }    #T_37e6f74a_c2da_11e7_b5f0_3c15c2be2ea6row1_col1 {\n",
       "            background-color:  rgba(249, 204, 208, 0.500000);\n",
       "        }    #T_37e6f74a_c2da_11e7_b5f0_3c15c2be2ea6row1_col2 {\n",
       "            background-color:  rgba(252, 229, 231, 0.500000);\n",
       "        }    #T_37e6f74a_c2da_11e7_b5f0_3c15c2be2ea6row1_col3 {\n",
       "            background-color:  rgba(252, 229, 231, 0.500000);\n",
       "        }    #T_37e6f74a_c2da_11e7_b5f0_3c15c2be2ea6row2_col0 {\n",
       "            background-color:  rgba(229, 0, 20, 0.500000);\n",
       "        }    #T_37e6f74a_c2da_11e7_b5f0_3c15c2be2ea6row2_col1 {\n",
       "            background-color:  rgba(249, 204, 208, 0.500000);\n",
       "        }    #T_37e6f74a_c2da_11e7_b5f0_3c15c2be2ea6row2_col2 {\n",
       "            background-color:  rgba(252, 229, 231, 0.500000);\n",
       "        }    #T_37e6f74a_c2da_11e7_b5f0_3c15c2be2ea6row3_col0 {\n",
       "            background-color:  rgba(229, 0, 20, 0.500000);\n",
       "        }    #T_37e6f74a_c2da_11e7_b5f0_3c15c2be2ea6row3_col1 {\n",
       "            background-color:  rgba(252, 229, 231, 0.500000);\n",
       "        }    #T_37e6f74a_c2da_11e7_b5f0_3c15c2be2ea6row4_col0 {\n",
       "            background-color:  rgba(229, 0, 20, 0.500000);\n",
       "        }</style>  \n",
       "<table id=\"T_37e6f74a_c2da_11e7_b5f0_3c15c2be2ea6\" > \n",
       "<thead>    <tr> \n",
       "        <th class=\"index_name level0\" >week_num</th> \n",
       "        <th class=\"col_heading level0 col0\" >0</th> \n",
       "        <th class=\"col_heading level0 col1\" >1</th> \n",
       "        <th class=\"col_heading level0 col2\" >2</th> \n",
       "        <th class=\"col_heading level0 col3\" >3</th> \n",
       "        <th class=\"col_heading level0 col4\" >4</th> \n",
       "    </tr>    <tr> \n",
       "        <th class=\"index_name level0\" >min_date</th> \n",
       "        <th class=\"blank\" ></th> \n",
       "        <th class=\"blank\" ></th> \n",
       "        <th class=\"blank\" ></th> \n",
       "        <th class=\"blank\" ></th> \n",
       "        <th class=\"blank\" ></th> \n",
       "    </tr></thead> \n",
       "<tbody>    <tr> \n",
       "        <th id=\"T_37e6f74a_c2da_11e7_b5f0_3c15c2be2ea6\" class=\"row_heading level0 row0\" >2017-08-28</th> \n",
       "        <td id=\"T_37e6f74a_c2da_11e7_b5f0_3c15c2be2ea6row0_col0\" class=\"data row0 col0\" >100</td> \n",
       "        <td id=\"T_37e6f74a_c2da_11e7_b5f0_3c15c2be2ea6row0_col1\" class=\"data row0 col1\" >12.7974</td> \n",
       "        <td id=\"T_37e6f74a_c2da_11e7_b5f0_3c15c2be2ea6row0_col2\" class=\"data row0 col2\" >7.95482</td> \n",
       "        <td id=\"T_37e6f74a_c2da_11e7_b5f0_3c15c2be2ea6row0_col3\" class=\"data row0 col3\" >5.19106</td> \n",
       "        <td id=\"T_37e6f74a_c2da_11e7_b5f0_3c15c2be2ea6row0_col4\" class=\"data row0 col4\" >2.46335</td> \n",
       "    </tr>    <tr> \n",
       "        <th id=\"T_37e6f74a_c2da_11e7_b5f0_3c15c2be2ea6\" class=\"row_heading level0 row1\" >2017-09-04</th> \n",
       "        <td id=\"T_37e6f74a_c2da_11e7_b5f0_3c15c2be2ea6row1_col0\" class=\"data row1 col0\" >100</td> \n",
       "        <td id=\"T_37e6f74a_c2da_11e7_b5f0_3c15c2be2ea6row1_col1\" class=\"data row1 col1\" >11.2122</td> \n",
       "        <td id=\"T_37e6f74a_c2da_11e7_b5f0_3c15c2be2ea6row1_col2\" class=\"data row1 col2\" >6.02318</td> \n",
       "        <td id=\"T_37e6f74a_c2da_11e7_b5f0_3c15c2be2ea6row1_col3\" class=\"data row1 col3\" >2.96826</td> \n",
       "        <td id=\"T_37e6f74a_c2da_11e7_b5f0_3c15c2be2ea6row1_col4\" class=\"data row1 col4\" ></td> \n",
       "    </tr>    <tr> \n",
       "        <th id=\"T_37e6f74a_c2da_11e7_b5f0_3c15c2be2ea6\" class=\"row_heading level0 row2\" >2017-09-11</th> \n",
       "        <td id=\"T_37e6f74a_c2da_11e7_b5f0_3c15c2be2ea6row2_col0\" class=\"data row2 col0\" >100</td> \n",
       "        <td id=\"T_37e6f74a_c2da_11e7_b5f0_3c15c2be2ea6row2_col1\" class=\"data row2 col1\" >10.2535</td> \n",
       "        <td id=\"T_37e6f74a_c2da_11e7_b5f0_3c15c2be2ea6row2_col2\" class=\"data row2 col2\" >3.95398</td> \n",
       "        <td id=\"T_37e6f74a_c2da_11e7_b5f0_3c15c2be2ea6row2_col3\" class=\"data row2 col3\" ></td> \n",
       "        <td id=\"T_37e6f74a_c2da_11e7_b5f0_3c15c2be2ea6row2_col4\" class=\"data row2 col4\" ></td> \n",
       "    </tr>    <tr> \n",
       "        <th id=\"T_37e6f74a_c2da_11e7_b5f0_3c15c2be2ea6\" class=\"row_heading level0 row3\" >2017-09-18</th> \n",
       "        <td id=\"T_37e6f74a_c2da_11e7_b5f0_3c15c2be2ea6row3_col0\" class=\"data row3 col0\" >100</td> \n",
       "        <td id=\"T_37e6f74a_c2da_11e7_b5f0_3c15c2be2ea6row3_col1\" class=\"data row3 col1\" >6.42177</td> \n",
       "        <td id=\"T_37e6f74a_c2da_11e7_b5f0_3c15c2be2ea6row3_col2\" class=\"data row3 col2\" ></td> \n",
       "        <td id=\"T_37e6f74a_c2da_11e7_b5f0_3c15c2be2ea6row3_col3\" class=\"data row3 col3\" ></td> \n",
       "        <td id=\"T_37e6f74a_c2da_11e7_b5f0_3c15c2be2ea6row3_col4\" class=\"data row3 col4\" ></td> \n",
       "    </tr>    <tr> \n",
       "        <th id=\"T_37e6f74a_c2da_11e7_b5f0_3c15c2be2ea6\" class=\"row_heading level0 row4\" >2017-09-25</th> \n",
       "        <td id=\"T_37e6f74a_c2da_11e7_b5f0_3c15c2be2ea6row4_col0\" class=\"data row4 col0\" >100</td> \n",
       "        <td id=\"T_37e6f74a_c2da_11e7_b5f0_3c15c2be2ea6row4_col1\" class=\"data row4 col1\" ></td> \n",
       "        <td id=\"T_37e6f74a_c2da_11e7_b5f0_3c15c2be2ea6row4_col2\" class=\"data row4 col2\" ></td> \n",
       "        <td id=\"T_37e6f74a_c2da_11e7_b5f0_3c15c2be2ea6row4_col3\" class=\"data row4 col3\" ></td> \n",
       "        <td id=\"T_37e6f74a_c2da_11e7_b5f0_3c15c2be2ea6row4_col4\" class=\"data row4 col4\" ></td> \n",
       "    </tr></tbody> \n",
       "</table> "
      ],
      "text/plain": [
       "<pandas.io.formats.style.Styler at 0x10c60beb8>"
      ]
     },
     "execution_count": 34,
     "metadata": {},
     "output_type": "execute_result"
    }
   ],
   "source": [
    "roll_ret_df_norm.T.fillna('').style.applymap(highlight_vals)"
   ]
  },
  {
   "cell_type": "code",
   "execution_count": null,
   "metadata": {
    "collapsed": true
   },
   "outputs": [],
   "source": []
  }
 ],
 "metadata": {
  "kernelspec": {
   "display_name": "Python 3",
   "language": "python",
   "name": "python3"
  },
  "language_info": {
   "codemirror_mode": {
    "name": "ipython",
    "version": 3
   },
   "file_extension": ".py",
   "mimetype": "text/x-python",
   "name": "python",
   "nbconvert_exporter": "python",
   "pygments_lexer": "ipython3",
   "version": "3.5.2"
  }
 },
 "nbformat": 4,
 "nbformat_minor": 2
}
